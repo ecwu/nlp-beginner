{
 "cells": [
  {
   "cell_type": "markdown",
   "metadata": {},
   "source": [
    "Note Area\n",
    "\n",
    "- https://nndl.github.io/\n",
    "- https://www.kaggle.com/c/sentiment-analysis-on-movie-reviews/overview\n",
    "- https://github.com/nndl/nndl.github.io/blob/master/md/DeepGuide.md\n",
    "- https://github.com/ecwu/nlp-beginner"
   ]
  },
  {
   "cell_type": "code",
   "execution_count": null,
   "metadata": {},
   "outputs": [],
   "source": []
  }
 ],
 "metadata": {
  "kernelspec": {
   "display_name": "Python 3",
   "language": "python",
   "name": "python3"
  },
  "language_info": {
   "codemirror_mode": {
    "name": "ipython",
    "version": 3
   },
   "file_extension": ".py",
   "mimetype": "text/x-python",
   "name": "python",
   "nbconvert_exporter": "python",
   "pygments_lexer": "ipython3",
   "version": "3.7.6"
  }
 },
 "nbformat": 4,
 "nbformat_minor": 4
}
